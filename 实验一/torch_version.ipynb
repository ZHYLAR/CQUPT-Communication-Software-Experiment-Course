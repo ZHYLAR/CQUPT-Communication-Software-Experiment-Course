{
 "cells": [
  {
   "cell_type": "code",
   "execution_count": 1,
   "metadata": {},
   "outputs": [
    {
     "name": "stdout",
     "output_type": "stream",
     "text": [
      "能量最大的前六个data编号为： [18, 6, 12, 0, 19, 7]\n",
      "PSS0:\n",
      "data18: 2736769.5 position: 200\n"
     ]
    }
   ],
   "source": [
    "import os\n",
    "import torch\n",
    "\n",
    "# 定义一个函数用于从文件中读取复数并存储到列表中\n",
    "def read_complex_numbers_from_file(file_path):\n",
    "    with open(file_path, 'r') as file:\n",
    "        lines = file.readlines()\n",
    "        real_parts = [float(lines[i].strip()) for i in range(0, len(lines), 2)]\n",
    "        imag_parts = [float(lines[i+1].strip()) for i in range(0, len(lines), 2)]\n",
    "        complex_numbers = [complex(real, imag) for real, imag in zip(real_parts, imag_parts)]\n",
    "    return complex_numbers\n",
    "\n",
    "# 文件夹路径\n",
    "folder_path = 'data'\n",
    "\n",
    "# 读取每个文件中的复数并存储到列表\n",
    "data = []\n",
    "for i in range(48):\n",
    "    file_name = f'data{i}.txt'\n",
    "    file_path = os.path.join(folder_path, file_name)\n",
    "    if os.path.exists(file_path):\n",
    "        complex_numbers = read_complex_numbers_from_file(file_path)\n",
    "        data.append(complex_numbers)\n",
    "\n",
    "PSS_data = []\n",
    "for i in range(3):\n",
    "    file_name = f'PSS{i}.txt'\n",
    "    file_path = os.path.join(folder_path, file_name)\n",
    "    if os.path.exists(file_path):\n",
    "        complex_numbers = read_complex_numbers_from_file(file_path)\n",
    "        PSS_data.append(complex_numbers)\n",
    "\n",
    "data_tensor = torch.tensor(data, dtype=torch.complex64)\n",
    "PSS_data_tensor = torch.tensor(PSS_data, dtype=torch.complex64)\n",
    "\n",
    "pow_dict = {i: torch.sum(torch.abs(row)) for i, row in enumerate(data_tensor)}\n",
    "sorted_items = sorted(pow_dict.items(), key=lambda x: x[1], reverse=True)\n",
    "top_six_indices = [key for key, value in sorted_items[:6]]\n",
    "print('能量最大的前六个data编号为：', top_six_indices)\n",
    "\n",
    "def relevant_test(data_index, pss_index):\n",
    "    max_val = 0\n",
    "    position = 0\n",
    "    for i in range(data_tensor.size(1)-PSS_data_tensor.size(1)):\n",
    "        ret = torch.sum(data_tensor[data_index, i:i+PSS_data_tensor.size(1)] * torch.conj(PSS_data_tensor[pss_index])).abs()\n",
    "        if ret > max_val:\n",
    "            position = i\n",
    "            max_val = ret\n",
    "    return max_val, position\n",
    "\n",
    "result = {}\n",
    "for pss_index in range(PSS_data_tensor.size(0)):\n",
    "    print(f'PSS{pss_index}:')\n",
    "    for data_index in top_six_indices:\n",
    "        max_val, position = relevant_test(data_index, pss_index)\n",
    "        print(f'data{data_index}:', max_val.item(), 'position:', position)\n",
    "        result[f'PSS{pss_index}-data{data_index}'] = [max_val.item(), position]\n",
    "\n",
    "max_values = {}\n",
    "for key, value in result.items():\n",
    "    pss, data_num = key.split('-')\n",
    "    if pss not in max_values or value[0] > max_values[pss][0]:\n",
    "        max_values[pss] = (value[0], data_num)\n",
    "\n",
    "for pss, (max_val, data_num) in max_values.items():\n",
    "    print(f\"{pss} corresponds to {data_num}\")\n"
   ]
  }
 ],
 "metadata": {
  "kernelspec": {
   "display_name": "torch",
   "language": "python",
   "name": "python3"
  },
  "language_info": {
   "codemirror_mode": {
    "name": "ipython",
    "version": 3
   },
   "file_extension": ".py",
   "mimetype": "text/x-python",
   "name": "python",
   "nbconvert_exporter": "python",
   "pygments_lexer": "ipython3",
   "version": "3.8.18"
  }
 },
 "nbformat": 4,
 "nbformat_minor": 2
}
